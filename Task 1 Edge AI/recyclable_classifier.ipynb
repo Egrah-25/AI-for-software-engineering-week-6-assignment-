# =============================================================================
# TASK 1: EDGE AI PROTOTYPE - Recyclable Item Classification
# =============================================================================

import tensorflow as tf
from tensorflow import keras
from tensorflow.keras import layers
import numpy as np
import matplotlib.pyplot as plt
from PIL import Image
import os

print("TensorFlow version:", tf.__version__)
print("Keras version:", keras.__version__)

# Data preparation (using CIFAR-10 as proxy for recyclable items)
print("Loading and preparing dataset...")
(x_train, y_train), (x_test, y_test) = keras.datasets.cifar10.load_data()

# Map to recyclable categories
class_names = ['plastic', 'paper', 'glass', 'metal', 'organic', 
               'cardboard', 'electronics', 'textiles', 'wood', 'other']

# Normalize pixel values
x_train = x_train.astype('float32') / 255.0
x_test = x_test.astype('float32') / 255.0

print(f"Training data shape: {x_train.shape}")
print(f"Test data shape: {x_test.shape}")

# Build lightweight CNN model
def create_lightweight_model():
    model = keras.Sequential([
        layers.Conv2D(32, (3,3), activation='relu', input_shape=(32,32,3)),
        layers.MaxPooling2D(2,2),
        layers.Conv2D(64, (3,3), activation='relu'),
        layers.MaxPooling2D(2,2),
        layers.Conv2D(64, (3,3), activation='relu'),
        layers.Flatten(),
        layers.Dense(64, activation='relu'),
        layers.Dropout(0.5),
        layers.Dense(10, activation='softmax')
    ])
    return model

# Create and compile model
model = create_lightweight_model()
model.compile(optimizer='adam',
              loss='sparse_categorical_crossentropy',
              metrics=['accuracy'])

model.summary()

# Train the model (fewer epochs for Colab demo)
print("Training the model...")
history = model.fit(x_train, y_train, 
                    epochs=10,  # Reduced for faster training
                    batch_size=32,
                    validation_split=0.2,
                    verbose=1)

# Evaluate the model
test_loss, test_acc = model.evaluate(x_test, y_test)
print(f"🎯 Test accuracy: {test_acc:.4f}")

# Plot training history
plt.figure(figsize=(12, 4))
plt.subplot(1, 2, 1)
plt.plot(history.history['accuracy'], label='Training Accuracy')
plt.plot(history.history['val_accuracy'], label='Validation Accuracy')
plt.title('Model Accuracy')
plt.xlabel('Epoch')
plt.ylabel('Accuracy')
plt.legend()

plt.subplot(1, 2, 2)
plt.plot(history.history['loss'], label='Training Loss')
plt.plot(history.history['val_loss'], label='Validation Loss')
plt.title('Model Loss')
plt.xlabel('Epoch')
plt.ylabel('Loss')
plt.legend()
plt.tight_layout()
plt.show()

# Convert to TensorFlow Lite
print("Converting to TensorFlow Lite...")
converter = tf.lite.TFLiteConverter.from_keras_model(model)
converter.optimizations = [tf.lite.Optimize.DEFAULT]
tflite_model = converter.convert()

# Save the TensorFlow Lite model
with open('recyclable_classifier.tflite', 'wb') as f:
    f.write(tflite_model)

print("✅ Model converted to TensorFlow Lite successfully!")
print(f"📁 TFLite model size: {len(tflite_model) / 1024 / 1024:.2f} MB")

# Test TFLite model
print("\nTesting TensorFlow Lite model...")

class TFLiteTester:
    def __init__(self, tflite_model):
        self.interpreter = tf.lite.Interpreter(model_content=tflite_model)
        self.interpreter.allocate_tensors()
        
        self.input_details = self.interpreter.get_input_details()
        self.output_details = self.interpreter.get_output_details()
        
        self.class_names = class_names
    
    def predict(self, image_array):
        input_data = image_array.astype(np.float32)
        
        self.interpreter.set_tensor(self.input_details[0]['index'], input_data)
        self.interpreter.invoke()
        
        output_data = self.interpreter.get_tensor(self.output_details[0]['index'])
        prediction = np.argmax(output_data[0])
        confidence = output_data[0][prediction]
        
        return self.class_names[prediction], confidence

# Initialize tester
tester = TFLiteTester(tflite_model)

# Test on sample images
def test_tflite_model(tester, x_test, y_test, num_tests=10):
    print(f"\n🧪 Testing TFLite model on {num_tests} samples...")
    correct = 0
    
    for i in range(num_tests):
        test_image = x_test[i:i+1]
        true_label = y_test[i][0]
        
        prediction, confidence = tester.predict(test_image)
        true_class = class_names[true_label]
        
        is_correct = (prediction == true_class)
        if is_correct:
            correct += 1
        
        print(f"Sample {i+1}: True={true_class:12} Predicted={prediction:12} "
              f"Confidence={confidence:.4f} {'✅' if is_correct else '❌'}")
    
    accuracy = correct / num_tests
    print(f"\n🎯 TFLite Model Test Accuracy: {accuracy:.2%}")
    return accuracy

# Run tests
tflite_accuracy = test_tflite_model(tester, x_test, y_test, 10)

# Download the .tflite file
from google.colab import files
files.download('recyclable_classifier.tflite')
print("📥 recyclable_classifier.tflite downloaded to your computer!")
